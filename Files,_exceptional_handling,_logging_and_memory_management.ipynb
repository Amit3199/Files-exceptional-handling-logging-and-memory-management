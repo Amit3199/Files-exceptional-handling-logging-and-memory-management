{
  "nbformat": 4,
  "nbformat_minor": 0,
  "metadata": {
    "colab": {
      "provenance": []
    },
    "kernelspec": {
      "name": "python3",
      "display_name": "Python 3"
    },
    "language_info": {
      "name": "python"
    }
  },
  "cells": [
    {
      "cell_type": "markdown",
      "source": [
        " Files, exceptional handling, logging and memory management  \n",
        "\n",
        "\n",
        "\n",
        " 1. What is the difference between interpreted and compiled languages?\n",
        "\n",
        "  -> The main difference between interpreted and compiled languages lies in how they execute code. Compiled languages translate the entire program into machine code before execution, while interpreted languages execute the code line by line as it's being run.\n",
        "\n",
        "\n",
        " 2. What is exception handling in Python?\n",
        "\n",
        "   -> Exception handling in Python is a mechanism used to manage errors that occur during the execution of a program, known as exceptions. It allows the program to respond to these errors gracefully instead of crashing abruptly.\n",
        "\n",
        "\n",
        " 3. What is the purpose of the finally block in exception handling?\n",
        "\n",
        "    -> The purpose of the finally block in exception handling is to ensure that\n",
        "       certain code, often cleanup or resource release code, is executed regardless of whether an exception was thrown in the preceding try block. This ensures critical operations like closing files or database connections are performed, even if the program flow is interrupted by an exception.\n",
        "\n",
        "\n",
        "  4. What is logging in Python?\n",
        "\n",
        "     -> In Python, logging is the process of tracking events that occur while a\n",
        "       software program is running. It involves recording information about these events, such as errors, warnings, or general status updates, to various destinations like the console, files, or even remote servers.\n",
        "\n",
        "\n",
        "  5. What is the significance of the __del__ method in Python?\n",
        "\n",
        "   -> In Python, logging is the process of tracking events that occur while a   software program is running. It involves recording information about these events, such as errors, warnings, or general status updates, to various destinations like the console, files, or even remote servers.\n",
        "\n",
        "\n",
        "  6. What is the difference between import and from ... import in Python?\n",
        "\n",
        "     -> The primary difference between import module and from module import  \n",
        "        name in Python lies in how the imported objects are made available in the current namespace.\n",
        "\n",
        "     (i). import module:\n",
        "\n",
        "        This statement imports the entire module into the current namespace.\n",
        "        To access any function, class, or variable within the module, you must prefix it with the module name and a dot (.).\n",
        "\n",
        "      (ii). from module import name:\n",
        "\n",
        "        This statement imports only specific name (e.g., a function, class, or variable) from the module directly into the current namespace.\n",
        "        You can then use the imported name directly without needing to prefix it with the module name.\n",
        "\n",
        "         \n",
        "  7. How can you handle multiple exceptions in Python ?\n",
        "\n",
        "      -> In Python, multiple exceptions can be handled within a try-except block\n",
        "        using several methods:\n",
        "\n",
        "      * Handling Multiple Exceptions in a Single except Clause:\n",
        "\n",
        "       If the same handling logic applies to different exception types, they can be specified as a tuple within a single except clause.\n",
        "\n",
        "     * Handling Specific Exceptions with Separate except Clauses:\n",
        "\n",
        "       If different exception types require different handling logic, separate except clauses can be used for each specific exception. Python will execute the first except block that matches the raised exception.\n",
        "\n",
        "  8. What is the purpose of the with statement when handling files in Python?   \n",
        "     \n",
        "     -> The with statement in Python, when used with file handling, serves the primary purpose of ensuring that files are properly closed after their use, even if errors or exceptions occur during the file operations. This automatic resource management is crucial for several reasons:\n",
        "\n",
        "    Guaranteed File Closure:\n",
        "\n",
        "     Without with, a programmer must explicitly call file.close() to release the file resource. If an exception occurs before close() is called, the file might remain open, leading to resource leaks or potential data corruption. The with statement, by utilizing context managers, guarantees that the file's __exit__ method is called upon exiting the with block, regardless of how the block is exited (normal completion or exception).\n",
        "\n",
        "    Improved Code Readability:\n",
        "\n",
        "      The with statement makes the code cleaner and more concise by abstracting away the explicit opening and closing of files. This leads to more readable and maintainable code.\n",
        "\n",
        "    Resource Management:\n",
        "\n",
        "      Beyond files, the with statement is a general mechanism for managing resources that require setup and teardown operations. It applies to other resources like network connections, database connections, and locks, ensuring they are properly acquired and released.\n",
        "\n",
        "\n",
        "  9. What is the difference between multithreading and multiprocessing?\n",
        "\n",
        "     -> Multithreading and multiprocessing are two different approaches to parallelism, both aimed at improving performance, but they differ in how they achieve this and the resources they utilize. Multithreading involves creating multiple threads within a single process, enabling concurrency, while multiprocessing involves running multiple independent processes, each with its own memory space.\n",
        "\n",
        "  10. What are the advantages of using logging in a program?\n",
        "\n",
        "      -> Logging provides significant advantages in program development and maintenance, primarily by enabling efficient debugging, performance monitoring, and security tracking. It helps developers gain insights into program behavior, identify issues, and make informed decisions about code optimization and system health.\n",
        "\n",
        "  \n",
        "  11. What is memory management in Python?\n",
        "\n",
        "      -> Memory management in Python refers to the system that handles how Python programs utilize and release memory on a computer. Unlike some other programming languages where manual memory management is required, Python automates this process, simplifying development.\n",
        "\n",
        "\n",
        "  12. What are the basic steps involved in exception handling in Python?\n",
        "\n",
        "  -> Here are the basic steps involved in exception handling in Python:\n",
        "    Identify Potentially Error-Prone Code:\n",
        "\n",
        "   The first step is to identify the sections of your code that might raise an exception. This could be due to invalid user input, file operations, network issues, or other unforeseen circumstances.\n",
        "\n",
        "   * Use the try Block:\n",
        "\n",
        "      Enclose the identified code within a try block. Python will attempt to execute the code inside this block.     \n",
        "\n",
        "   * Use the except Block(s):\n",
        "\n",
        "     Immediately following the try block, add one or more except blocks. These blocks specify how to handle specific types of exceptions that might occur within the try block. If an exception occurs in the try block and its type matches the exception specified in an except block, the code within that except block will be executed.    \n",
        "\n",
        "   * Optional:\n",
        "   \n",
        "     Use the else Block: An optional else block can be included after all except blocks. The code within the else block will execute only if no exceptions were raised within the try block.\n",
        "\n",
        "   * Optional:\n",
        "     \n",
        "      Use the finally Block: An optional finally block can be included. The code within the finally block will always execute, regardless of whether an exception occurred or not. This is often used for cleanup operations, such as closing files or releasing resources.\n",
        "\n",
        "\n",
        "  13. Why is memory management important in Python?\n",
        "\n",
        "      -> Memory management is crucial in Python for several reasons, despite the language handling much of it automatically:\n",
        "\n",
        "      Efficiency and Performance:\n",
        "\n",
        "       While Python's automatic memory management (through reference counting and garbage collection) simplifies development, understanding its principles allows developers to write more memory-efficient code. This can lead to faster program execution and reduced resource consumption, especially for large-scale applications or those dealing with significant data.\n",
        "\n",
        "      Preventing Memory Leaks:\n",
        "\n",
        "      Although Python aims to prevent memory leaks by automatically reclaiming unused memory, certain programming patterns can still lead to objects not being properly released. Understanding how Python manages memory helps identify and resolve such issues, ensuring that programs don't consume ever-increasing amounts of RAM.\n",
        "\n",
        "      Debugging Memory-Related Issues:\n",
        "\n",
        "      When a Python program experiences performance degradation or crashes due to excessive memory usage, knowledge of memory management is essential for effective debugging. This includes understanding how objects are allocated, how reference counts work, and how the garbage collector operates.\n",
        "\n",
        "      Optimizing Resource Usage:\n",
        "\n",
        "      In resource-constrained environments or when developing applications that need to be highly scalable, optimizing memory usage becomes paramount. Understanding Python's memory model allows for conscious choices in data structures and algorithms that minimize memory footprint.\n",
        "\n",
        "      Understanding Language Internals:\n",
        "\n",
        "      A grasp of memory management provides deeper insight into how Python works under the hood. This knowledge is beneficial for advanced programming, performance tuning, and even for understanding the behavior of other programming languages.   \n",
        "\n",
        "\n",
        "  14. What is the role of try and except in exception handling?\n",
        "\n",
        "      -> In exception handling, try and except blocks work together to gracefully handle errors that might occur during program execution. The try block contains code that might potentially raise an exception, while the except block contains the code that executes if an exception occurs within the try block.\n",
        "\n",
        "\n",
        "  15. How does Python's garbage collection system work?\n",
        "\n",
        "      -> Python uses a hybrid garbage collection system consisting of reference counting and generational garbage collection. This system automatically manages memory, freeing up space occupied by objects that are no longer in use.\n",
        "\n",
        "\n",
        "  16. What is the purpose of the else block in exception handling?\n",
        "\n",
        "       -> In exception handling, the else block is executed only if no exceptions are raised within the try block. It allows you to execute code that should run when the try block completes successfully, separating it from the exception handling code.\n",
        "\n",
        "\n",
        "  17. What are the common logging levels in Python?\n",
        "\n",
        "       - TThe common logging levels in Python are: NOTSET=0, DEBUG=10, INFO=20, WARN=30, ERROR=40, and CRITICAL=50.   \n",
        "\n",
        "\n",
        "\n",
        "  18. What is the difference between os.fork() and multiprocessing in Python?\n",
        "\n",
        "      -> The os.fork() function and the multiprocessing module in Python both facilitate the creation of new processes, but they differ in their level of abstraction, portability, and how they handle process state.\n",
        "\n",
        "    os.fork():\n",
        "\n",
        "   * This is a low-level system call available on Unix-like operating systems (not Windows).\n",
        "\n",
        "   * When os.fork() is called, it creates a near-identical copy of the calling process, including its memory space, open file descriptors, and so on. The child process starts executing from the point where fork() was called.\n",
        "\n",
        "   * It returns 0 in the child process and the child's process ID (PID) in the parent process.\n",
        "\n",
        "   * Directly using os.fork() requires careful handling of shared resources, especially in multithreaded parent processes, as locks and other synchronization primitives might become problematic in the forked child.\n",
        "\n",
        "    multiprocessing module:\n",
        "\n",
        "   * This is a higher-level, more abstract module in Python's standard library designed for process-based parallelism.\n",
        "\n",
        "   * It provides a more portable way to create and manage processes across different operating systems, including Windows.\n",
        "\n",
        "   * The multiprocessing module offers different \"start methods\" for creating new processes, including fork, spawn, and forkserver.\n",
        "\n",
        "   * The multiprocessing module provides convenient classes and functions for managing processes, such as Process objects, Pool for parallel execution of functions, and various inter-process communication (IPC) mechanisms (queues, pipes).\n",
        "\n",
        "\n",
        "  19. What is the importance of closing a file in Python?\n",
        "\n",
        "      - Importance of Closing Files in Python:\n",
        "\n",
        "        Closing a file in Python is crucial to prevent resource leaks and ensure data integrity. When a file is closed, Python frees up the  system resources that were used during the file operation.\n",
        "        If a file is not properly closed, it can lead to memory leaks, which can slow down your program or even cause it to crash.\n",
        "        Not closing a file can also cause data corruption, especially when you’re writing data to the file, as changes might not be saved correctly until the file is closed.\n",
        "        Using the close() method or the with statement, which automatically closes the file, is recommended to avoid these issues.\n",
        "\n",
        "\n",
        "  20. What is the difference between file.read() and file.readline() in Python?\n",
        "\n",
        "     -> In Python, both file.read() and file.readline() are methods used to read data from a file, but they differ in the amount of data they retrieve:\n",
        "\n",
        "   * file.read(size): This method reads the entire content of the file as a\n",
        "     single string by default. If an optional size argument is provided, it reads at most size bytes (or characters in text mode) from the file and returns them as a string. Subsequent calls to read() will continue from where the previous call left off.\n",
        "\n",
        "   * file.readline(): This method reads a single line from the file, including\n",
        "     the newline character (\\n) if present, and returns it as a string. Each call to readline() moves the file pointer to the beginning of the next line. If the end of the file is reached, it returns an empty string.\n",
        "\n",
        "\n",
        "  21. What is the logging module in Python used for?\n",
        "   \n",
        "       -> The logging module in Python is a standard library feature used for tracking events, debugging issues, and monitoring the health of applications. It provides a flexible way to record information about errors, warnings, and other events that occur during program execution.\n",
        "\n",
        "\n",
        "\n",
        "  22. What is the os module in Python used for in file handling?\n",
        "\n",
        "       -> Python has a built-in os module with methods for interacting with the operating system, like creating files and directories, management of files and directories, input, output, environment variables, process management, etc.\n",
        "\n",
        "\n",
        "  23.  What are the challenges associated with memory management in Python?\n",
        "\n",
        "        -> Python's memory management, while largely automatic, presents  \n",
        "         several challenges:\n",
        "\n",
        "        1. Memory Leaks:\n",
        "\n",
        "         * Occur when objects are no longer in use but are not deallocated,\n",
        "           leading to increased memory consumption over time.\n",
        "\n",
        "         * Reference cycles, where objects refer to each other, can prevent\n",
        "           garbage collection.\n",
        "\n",
        "        2. Garbage Collection Overhead:\n",
        "\n",
        "          * Python's garbage collector automatically reclaims unused memory,  \n",
        "            but this process can introduce performance overhead.\n",
        "\n",
        "          * The garbage collector needs to traverse objects and determine which\n",
        "            are no longer needed.\n",
        "\n",
        "        3. Limited Customization:\n",
        "\n",
        "          * Python's memory management is largely automatic, offering less\n",
        "            manual control compared to languages like C or C++.\n",
        "\n",
        "          * This lack of control can make it harder to optimize memory usage in\n",
        "            specific scenarios.\n",
        "\n",
        "      4. Memory Bloat:\n",
        "\n",
        "          * Inefficient code or data structures can lead to excessive memory\n",
        "            consumption, also known as memory bloat.\n",
        "\n",
        "          * Loading large datasets without proper handling can also lead to\n",
        "            memory bloat.\n",
        "      5. Fragmentation:\n",
        "\n",
        "          * Dynamic memory allocation can result in memory fragmentation, where\n",
        "            available memory is scattered across small, unusable blocks.\n",
        "\n",
        "          * This fragmentation can make it difficult to allocate large blocks  \n",
        "           of memory, even if the total available memory is sufficient.\n",
        "\n",
        "     6. Multithreading/Multiprocessing:\n",
        "\n",
        "         * Multithreading can introduce complexities like race conditions and\n",
        "           deadlocks, while multiprocessing can be memory-intensive due to each process requiring its own memory space.\n",
        "\n",
        "         * Synchronizing memory access across threads or processes can be\n",
        "          challenging.\n",
        "\n",
        "    7. Large Datasets:\n",
        "\n",
        "         * Working with large datasets can be challenging due to Python's\n",
        "           automatic memory management.\n",
        "\n",
        "         * Loading large datasets into memory can lead to memory errors or\n",
        "           inefficient memory utilization.\n",
        "\n",
        "    8. Reference Counting:\n",
        "\n",
        "         * Python uses reference counting to manage memory, but it may not be thread-safe.\n",
        "\n",
        "         * Reference counting also has space and execution overhead.\n",
        "\n",
        "     9. Debugging:\n",
        "\n",
        "         * Memory issues can be difficult to debug due to Python's abstraction\n",
        "          of memory management.\n",
        "\n",
        "         * Identifying memory leaks or inefficiencies often requires  \n",
        "          specialized tools and techniques.\n",
        "\n",
        "\n",
        "  24.  How do you raise an exception manually in Python?\n",
        "\n",
        "        -> To manually raise an exception in Python, you can use the raise keyword followed by the type of exception you want to raise. For example, to raise a ValueError, you would use raise ValueError. You can also include an optional error message that provides additional information about the exception.\n",
        "\n",
        "\n",
        "25. Why is it important to use multithreading in certain applications?\n",
        "\n",
        "     -> Multithreading is crucial for applications needing to perform multiple tasks simultaneously or to improve responsiveness and resource utilization. By dividing tasks into threads, applications can run faster, handle multiple requests concurrently, and make better use of CPU cores. This is particularly important in applications like web servers, image processing, and real-time systems where responsiveness and efficient resource management are vital."
      ],
      "metadata": {
        "id": "yZ3A2k3VkVUo"
      }
    },
    {
      "cell_type": "code",
      "source": [],
      "metadata": {
        "id": "kjUvvf3LBiCD"
      },
      "execution_count": null,
      "outputs": []
    },
    {
      "cell_type": "markdown",
      "source": [
        "Practical Questions"
      ],
      "metadata": {
        "id": "tuYd2FIJBf_a"
      }
    },
    {
      "cell_type": "markdown",
      "source": [
        "1.  How can you open a file for writing in Python and write a string to it?\n",
        "  \n",
        "    -> To open a file for writing in Python and write a string to it, you can\n",
        "      use the open() function with the mode set to \"w\" and the write() method.\n",
        "\n",
        "\n",
        "Here's an example:"
      ],
      "metadata": {
        "id": "9b9AkbBdCFcD"
      }
    },
    {
      "cell_type": "code",
      "source": [
        "file_path = \"example.txt\"\n",
        "text_to_write = \"Hello, this is a string written to the file.\"\n",
        "\n",
        "with open(file_path, \"w\") as file:\n",
        "    file.write(text_to_write)"
      ],
      "metadata": {
        "id": "V3pemLVyDj_H"
      },
      "execution_count": 1,
      "outputs": []
    },
    {
      "cell_type": "code",
      "source": [],
      "metadata": {
        "id": "vm8jCEUMBglZ"
      },
      "execution_count": null,
      "outputs": []
    },
    {
      "cell_type": "markdown",
      "source": [
        "  2. Write a Python program to read the contents of a file and print each line."
      ],
      "metadata": {
        "id": "wQbC_KYOEJo5"
      }
    },
    {
      "cell_type": "code",
      "source": [
        "def read_and_print_file(filename):\n",
        "    \"\"\"Reads the contents of a file and prints each line.\n",
        "\n",
        "    Args:\n",
        "        filename: The path to the file to read.\n",
        "    \"\"\"\n",
        "    try:\n",
        "        with open(filename, 'r') as file:\n",
        "            for line in file:\n",
        "                print(line.strip())\n",
        "    except FileNotFoundError:\n",
        "        print(f\"Error: File '{filename}' not found.\")\n",
        "    except Exception as e:\n",
        "        print(f\"An error occurred: {e}\")\n",
        "\n",
        "if __name__ == \"__main__\":\n",
        "    file_path = \"example.txt\"  # Replace with your file path\n",
        "    read_and_print_file(file_path)"
      ],
      "metadata": {
        "colab": {
          "base_uri": "https://localhost:8080/"
        },
        "id": "skjQ6e_hEVzQ",
        "outputId": "940be841-250f-44c5-f609-5869b2ad2dcf"
      },
      "execution_count": 2,
      "outputs": [
        {
          "output_type": "stream",
          "name": "stdout",
          "text": [
            "Hello, this is a string written to the file.\n"
          ]
        }
      ]
    },
    {
      "cell_type": "code",
      "source": [],
      "metadata": {
        "id": "xNlVjQ-2Eid3"
      },
      "execution_count": null,
      "outputs": []
    },
    {
      "cell_type": "markdown",
      "source": [
        "  3. How would you handle a case where the file doesn't exist while trying to open it for reading?"
      ],
      "metadata": {
        "id": "cpUfkGsKEixw"
      }
    },
    {
      "cell_type": "code",
      "source": [
        "try:\n",
        "    with open('nonexistent_file.txt', 'r') as file:\n",
        "        content = file.read()\n",
        "except FileNotFoundError:\n",
        "    print(\"The file does not exist.\")"
      ],
      "metadata": {
        "colab": {
          "base_uri": "https://localhost:8080/"
        },
        "id": "Sh574fEXE_Us",
        "outputId": "2c358ef5-3fb0-48a5-d3dd-25d9d158dadc"
      },
      "execution_count": 3,
      "outputs": [
        {
          "output_type": "stream",
          "name": "stdout",
          "text": [
            "The file does not exist.\n"
          ]
        }
      ]
    },
    {
      "cell_type": "code",
      "source": [],
      "metadata": {
        "id": "dmgsj23KFCV8"
      },
      "execution_count": null,
      "outputs": []
    },
    {
      "cell_type": "markdown",
      "source": [
        "  4.  Write a Python script that reads from one file and writes its content to another file."
      ],
      "metadata": {
        "id": "lsM0CaOCFCh1"
      }
    },
    {
      "cell_type": "code",
      "source": [
        "def copy_file_content(source_file_path, destination_file_path):\n",
        "    try:\n",
        "        with open(source_file_path, 'r') as source_file:\n",
        "            content = source_file.read()\n",
        "        with open(destination_file_path, 'w') as destination_file:\n",
        "            destination_file.write(content)\n",
        "        print(f\"Content from '{source_file_path}' copied to '{destination_file_path}' successfully.\")\n",
        "    except FileNotFoundError:\n",
        "        print(f\"Error: File not found at '{source_file_path}'.\")\n",
        "    except Exception as e:\n",
        "        print(f\"An error occurred: {e}\")\n",
        "\n",
        "if __name__ == \"__main__\":\n",
        "    source_file = \"source.txt\"\n",
        "    destination_file = \"destination.txt\"\n",
        "    copy_file_content(source_file, destination_file)"
      ],
      "metadata": {
        "colab": {
          "base_uri": "https://localhost:8080/"
        },
        "id": "cWiOru4WFSPB",
        "outputId": "753a6464-236f-43f3-bada-8aea32246389"
      },
      "execution_count": 4,
      "outputs": [
        {
          "output_type": "stream",
          "name": "stdout",
          "text": [
            "Error: File not found at 'source.txt'.\n"
          ]
        }
      ]
    },
    {
      "cell_type": "code",
      "source": [],
      "metadata": {
        "id": "JR78qzXxFzik"
      },
      "execution_count": null,
      "outputs": []
    },
    {
      "cell_type": "markdown",
      "source": [
        "  5. How would you catch and handle division by zero error in Python?"
      ],
      "metadata": {
        "id": "b9spSYagFz29"
      }
    },
    {
      "cell_type": "code",
      "source": [
        "a = 10\n",
        "b = 0\n",
        "\n",
        "try:\n",
        "    result = a / b\n",
        "except ZeroDivisionError:\n",
        "    print(\"You can't divide by zero!\")\n",
        "    result = None"
      ],
      "metadata": {
        "colab": {
          "base_uri": "https://localhost:8080/"
        },
        "id": "lJta0II5GxpF",
        "outputId": "4de84be3-3268-404e-a4f2-c202b07e1aa5"
      },
      "execution_count": 6,
      "outputs": [
        {
          "output_type": "stream",
          "name": "stdout",
          "text": [
            "You can't divide by zero!\n"
          ]
        }
      ]
    },
    {
      "cell_type": "code",
      "source": [],
      "metadata": {
        "id": "pq9ch7fMG1G2"
      },
      "execution_count": null,
      "outputs": []
    },
    {
      "cell_type": "markdown",
      "source": [
        "  6.  Write a Python program that logs an error message to a log file when a division by zero exception occurs."
      ],
      "metadata": {
        "id": "OFr86JGcIm4r"
      }
    },
    {
      "cell_type": "code",
      "source": [
        "import logging\n",
        "\n",
        "# Configure logging to write to a file\n",
        "logging.basicConfig(filename='error.log', level=logging.ERROR,\n",
        "                    format='%(asctime)s - %(levelname)s - %(message)s')\n",
        "\n",
        "def divide(x, y):\n",
        "    try:\n",
        "        result = x / y\n",
        "        return result\n",
        "    except ZeroDivisionError:\n",
        "        logging.error(\"Division by zero occurred\")\n",
        "        return None\n",
        "\n",
        "# Example usage\n",
        "numerator = 10\n",
        "denominator = 0\n",
        "\n",
        "result = divide(numerator, denominator)\n",
        "\n",
        "if result is None:\n",
        "    print(\"An error occurred. Check the log file for details.\")\n",
        "else:\n",
        "    print(\"Result:\", result)"
      ],
      "metadata": {
        "colab": {
          "base_uri": "https://localhost:8080/"
        },
        "id": "8pXOb0tkI1yK",
        "outputId": "54a9e72b-e49d-45a0-9bc6-73e0dc1dd48f"
      },
      "execution_count": 7,
      "outputs": [
        {
          "output_type": "stream",
          "name": "stderr",
          "text": [
            "ERROR:root:Division by zero occurred\n"
          ]
        },
        {
          "output_type": "stream",
          "name": "stdout",
          "text": [
            "An error occurred. Check the log file for details.\n"
          ]
        }
      ]
    },
    {
      "cell_type": "code",
      "source": [
        ""
      ],
      "metadata": {
        "id": "tEAq61fXI2jM"
      },
      "execution_count": null,
      "outputs": []
    },
    {
      "cell_type": "markdown",
      "source": [
        "  7.  How do you log information at different levels (INFO, ERROR, WARNING) in Python using the logging module."
      ],
      "metadata": {
        "id": "EFqXOp_qI7l9"
      }
    },
    {
      "cell_type": "code",
      "source": [
        "\n",
        "logging.info(\"This is an info message.\")  # For general information about the program's execution\n",
        "logging.warning(\"This is a warning message.\") # For unexpected events that might cause issues\n",
        "logging.error(\"This is an error message.\") # For errors that prevent the program from working as expected\n"
      ],
      "metadata": {
        "colab": {
          "base_uri": "https://localhost:8080/"
        },
        "id": "akfo1QVDJXT_",
        "outputId": "a9f4bf80-2a25-4a52-d335-a80c6a3554f9"
      },
      "execution_count": 9,
      "outputs": [
        {
          "output_type": "stream",
          "name": "stderr",
          "text": [
            "WARNING:root:This is a warning message.\n",
            "ERROR:root:This is an error message.\n"
          ]
        }
      ]
    },
    {
      "cell_type": "code",
      "source": [],
      "metadata": {
        "id": "j1KwY9w2JnPL"
      },
      "execution_count": null,
      "outputs": []
    },
    {
      "cell_type": "markdown",
      "source": [
        "  8. Write a program to handle a file opening error using exception handling."
      ],
      "metadata": {
        "id": "oMx3OpWFKV1g"
      }
    },
    {
      "cell_type": "code",
      "source": [
        "def read_file(filename):\n",
        "    try:\n",
        "        with open(filename, 'r') as file:\n",
        "            content = file.read()\n",
        "            print(\"File content:\")\n",
        "            print(content)\n",
        "    except FileNotFoundError:\n",
        "        print(f\"Error: The file '{filename}' was not found.\")\n",
        "    except PermissionError:\n",
        "        print(f\"Error: You do not have permission to open '{filename}'.\")\n",
        "    except Exception as e:\n",
        "        print(f\"An unexpected error occurred: {e}\")\n",
        "\n",
        "# Example usage:\n",
        "read_file(\"example.txt\")  # Replace \"example.txt\" with the desired file name."
      ],
      "metadata": {
        "colab": {
          "base_uri": "https://localhost:8080/"
        },
        "id": "veMyzTjKKfYe",
        "outputId": "cb3f20f0-fff7-46d4-972a-f1d62146f157"
      },
      "execution_count": 11,
      "outputs": [
        {
          "output_type": "stream",
          "name": "stdout",
          "text": [
            "File content:\n",
            "Hello, this is a string written to the file.\n"
          ]
        }
      ]
    },
    {
      "cell_type": "code",
      "source": [],
      "metadata": {
        "id": "lUX2wluEKgCx"
      },
      "execution_count": null,
      "outputs": []
    },
    {
      "cell_type": "markdown",
      "source": [
        "  9.  How can you read a file line by line and store its content in a list in Python?"
      ],
      "metadata": {
        "id": "L3F4b3IZKhPP"
      }
    },
    {
      "cell_type": "markdown",
      "source": [
        "1. Using readlines():\n",
        "\n",
        "   This is the most straightforward method. The readlines() method reads all the lines of the file at once and returns them as a list of strings.\n",
        "   "
      ],
      "metadata": {
        "id": "gIhN2ZB5LGh4"
      }
    },
    {
      "cell_type": "code",
      "source": [
        "with open('your_file.txt', 'r') as file:\n",
        "    lines = file.readlines()\n",
        "print(lines)"
      ],
      "metadata": {
        "id": "0_gs6nuBLVnS"
      },
      "execution_count": null,
      "outputs": []
    },
    {
      "cell_type": "markdown",
      "source": [
        "   2. Using a for loop:\n",
        "   \n",
        "      This method reads the file line by line and appends each line to a list. It's useful for processing each line individually as you read it."
      ],
      "metadata": {
        "id": "vwoVS9VALpSx"
      }
    },
    {
      "cell_type": "code",
      "source": [
        "lines = []\n",
        "with open('your_file.txt', 'r') as file:\n",
        "    for line in file:\n",
        "        lines.append(line.strip()) # Remove newline characters\n",
        "print(lines)"
      ],
      "metadata": {
        "id": "rayjf1_jLwAc"
      },
      "execution_count": null,
      "outputs": []
    },
    {
      "cell_type": "markdown",
      "source": [
        "   3. Using list comprehension:\n",
        "   \n",
        "      This method is a concise way to achieve the same result as the for loop.  "
      ],
      "metadata": {
        "id": "Fq3y6I6wL1cQ"
      }
    },
    {
      "cell_type": "code",
      "source": [
        "with open('your_file.txt', 'r') as file:\n",
        "    lines = [line.strip() for line in file]\n",
        "print(lines)"
      ],
      "metadata": {
        "id": "mD45_myvL9EG"
      },
      "execution_count": null,
      "outputs": []
    },
    {
      "cell_type": "code",
      "source": [],
      "metadata": {
        "id": "542YeSGgMBfQ"
      },
      "execution_count": null,
      "outputs": []
    },
    {
      "cell_type": "markdown",
      "source": [
        "  10. How can you append data to an existing file in Python."
      ],
      "metadata": {
        "id": "tIczMT4wMBxY"
      }
    },
    {
      "cell_type": "code",
      "source": [
        "file = open(\"my_file.txt\", \"a\")\n",
        "file.write(\"This is the new data to be appended.\\n\")\n",
        "file.close()"
      ],
      "metadata": {
        "id": "hU2Hv-JNMG46"
      },
      "execution_count": 16,
      "outputs": []
    },
    {
      "cell_type": "code",
      "source": [],
      "metadata": {
        "id": "eQFCYpQaMK43"
      },
      "execution_count": null,
      "outputs": []
    },
    {
      "cell_type": "markdown",
      "source": [
        "  11. Write a Python program that uses a try-except block to handle an error when attempting to access a\n",
        "dictionary key that doesn't exist."
      ],
      "metadata": {
        "id": "OzTJvKDfMMI9"
      }
    },
    {
      "cell_type": "code",
      "source": [
        "def access_dictionary_key(dictionary, key):\n",
        "    try:\n",
        "        value = dictionary[key]\n",
        "        print(f\"The value for key '{key}' is: {value}\")\n",
        "    except KeyError:\n",
        "        print(f\"Error: Key '{key}' not found in the dictionary.\")\n",
        "\n",
        "# Example usage\n",
        "my_dict = {\"a\": 1, \"b\": 2, \"c\": 3}\n",
        "\n",
        "access_dictionary_key(my_dict, \"b\")  # Accesses an existing key\n",
        "access_dictionary_key(my_dict, \"d\")  # Attempts to access a non-existent key"
      ],
      "metadata": {
        "colab": {
          "base_uri": "https://localhost:8080/"
        },
        "id": "l2M7BctMMQaB",
        "outputId": "64ee108b-9525-4cfb-8513-fe9b9f77f96a"
      },
      "execution_count": 17,
      "outputs": [
        {
          "output_type": "stream",
          "name": "stdout",
          "text": [
            "The value for key 'b' is: 2\n",
            "Error: Key 'd' not found in the dictionary.\n"
          ]
        }
      ]
    },
    {
      "cell_type": "code",
      "source": [],
      "metadata": {
        "id": "ATIlCs_ZMUhb"
      },
      "execution_count": null,
      "outputs": []
    },
    {
      "cell_type": "markdown",
      "source": [
        "  12. Write a program that demonstrates using multiple except blocks to handle different types of exceptions."
      ],
      "metadata": {
        "id": "I1hJUxCPMVuz"
      }
    },
    {
      "cell_type": "code",
      "source": [
        "def main():\n",
        "    try:\n",
        "        # Code that may raise exceptions\n",
        "        x = int(input(\"Enter a number: \"))\n",
        "        y = int(input(\"Enter another number: \"))\n",
        "        result = x / y\n",
        "        print(f\"The result of {x} divided by {y} is {result}\")\n",
        "\n",
        "    except ValueError:\n",
        "        # Handles the case where input cannot be converted to an integer\n",
        "        print(\"Invalid input. Please enter numeric values.\")\n",
        "\n",
        "    except ZeroDivisionError:\n",
        "        # Handles the case where division by zero occurs\n",
        "        print(\"Cannot divide by zero.\")\n",
        "\n",
        "    except Exception as e:\n",
        "        # Handles any other exceptions that may occur\n",
        "        print(f\"An unexpected error occurred: {e}\")\n",
        "\n",
        "if __name__ == \"__main__\":\n",
        "    main()"
      ],
      "metadata": {
        "colab": {
          "base_uri": "https://localhost:8080/"
        },
        "id": "QWqKBOqfMbw3",
        "outputId": "c66ef866-7dc1-4deb-be68-94d75507d8b2"
      },
      "execution_count": 18,
      "outputs": [
        {
          "output_type": "stream",
          "name": "stdout",
          "text": [
            "Enter a number: 12\n",
            "Enter another number: 25\n",
            "The result of 12 divided by 25 is 0.48\n"
          ]
        }
      ]
    },
    {
      "cell_type": "code",
      "source": [],
      "metadata": {
        "id": "S7WuLdIQMoq3"
      },
      "execution_count": null,
      "outputs": []
    },
    {
      "cell_type": "markdown",
      "source": [
        "  13. How would you check if a file exists before attempting to read it in Python."
      ],
      "metadata": {
        "id": "GxeQXICfMsrr"
      }
    },
    {
      "cell_type": "code",
      "source": [
        "import os\n",
        "\n",
        "file_path = \"my_file.txt\"\n",
        "\n",
        "if os.path.exists(file_path):\n",
        "    with open(file_path, \"r\") as file:\n",
        "        contents = file.read()\n",
        "        print(contents)\n",
        "else:\n",
        "    print(\"File does not exist.\")"
      ],
      "metadata": {
        "colab": {
          "base_uri": "https://localhost:8080/"
        },
        "id": "QcCjOwVkM4oa",
        "outputId": "9913a6e8-3c6d-4d3c-d442-b10de8635b91"
      },
      "execution_count": 19,
      "outputs": [
        {
          "output_type": "stream",
          "name": "stdout",
          "text": [
            "This is the new data to be appended.\n",
            "\n"
          ]
        }
      ]
    },
    {
      "cell_type": "code",
      "source": [],
      "metadata": {
        "id": "tBVZj7dpM5eo"
      },
      "execution_count": null,
      "outputs": []
    },
    {
      "cell_type": "markdown",
      "source": [
        "  14. Write a program that uses the logging module to log both informational and error messages."
      ],
      "metadata": {
        "id": "QdHGocKjM6bT"
      }
    },
    {
      "cell_type": "code",
      "source": [
        "import logging\n",
        "\n",
        "# Configure logging to output to the console\n",
        "logging.basicConfig(level=logging.INFO, format='%(asctime)s - %(levelname)s - %(message)s')\n",
        "\n",
        "def divide(x, y):\n",
        "    \"\"\"Divides two numbers and logs the operation.\"\"\"\n",
        "    logging.info(f\"Dividing {x} by {y}\")\n",
        "    try:\n",
        "        result = x / y\n",
        "        logging.info(f\"Result: {result}\")\n",
        "        return result\n",
        "    except ZeroDivisionError:\n",
        "        logging.error(\"Cannot divide by zero\")\n",
        "        return None\n",
        "\n",
        "if __name__ == \"__main__\":\n",
        "    divide(10, 2)  # This will log an informational message and the result\n",
        "    divide(5, 0)  # This will log an informational message and an error message"
      ],
      "metadata": {
        "colab": {
          "base_uri": "https://localhost:8080/"
        },
        "id": "JuDaoopNNCLq",
        "outputId": "4d03ea12-e311-48d2-a2ff-0d76792c5a3a"
      },
      "execution_count": 20,
      "outputs": [
        {
          "output_type": "stream",
          "name": "stderr",
          "text": [
            "ERROR:root:Cannot divide by zero\n"
          ]
        }
      ]
    },
    {
      "cell_type": "code",
      "source": [],
      "metadata": {
        "id": "zEasecwANC7I"
      },
      "execution_count": null,
      "outputs": []
    },
    {
      "cell_type": "markdown",
      "source": [
        "  15. Write a Python program that prints the content of a file and handles the case when the file is empty."
      ],
      "metadata": {
        "id": "4icu54E1NEZT"
      }
    },
    {
      "cell_type": "code",
      "source": [
        "def print_file_content(filename):\n",
        "    \"\"\"Prints the content of a file, handling empty files.\"\"\"\n",
        "    try:\n",
        "        with open(filename, 'r') as file:\n",
        "            content = file.read()\n",
        "            if content:\n",
        "                print(content)\n",
        "            else:\n",
        "                print(\"The file is empty.\")\n",
        "    except FileNotFoundError:\n",
        "        print(f\"Error: File '{filename}' not found.\")\n",
        "    except Exception as e:\n",
        "        print(f\"An error occurred: {e}\")\n",
        "\n",
        "if __name__ == \"__main__\":\n",
        "    file_path = \"my_file.txt\"\n",
        "    print_file_content(file_path)"
      ],
      "metadata": {
        "colab": {
          "base_uri": "https://localhost:8080/"
        },
        "id": "a8A_M6D4NWDZ",
        "outputId": "d2cebb61-c097-4167-e2f5-1407d20215f1"
      },
      "execution_count": 21,
      "outputs": [
        {
          "output_type": "stream",
          "name": "stdout",
          "text": [
            "This is the new data to be appended.\n",
            "\n"
          ]
        }
      ]
    },
    {
      "cell_type": "code",
      "source": [],
      "metadata": {
        "id": "_EDOxOdHNWxV"
      },
      "execution_count": null,
      "outputs": []
    },
    {
      "cell_type": "markdown",
      "source": [
        "  16. Demonstrate how to use memory profiling to check the memory usage of a small program."
      ],
      "metadata": {
        "id": "aCU-5gFvNXmw"
      }
    },
    {
      "cell_type": "code",
      "source": [
        "from memory_profiler import profile\n",
        "\n",
        "@profile\n",
        "def my_function():\n",
        "    # Code to be profiled\n",
        "    my_list = []\n",
        "    for i in range(10000):\n",
        "        my_list.append(i)\n",
        "    return my_list\n",
        "\n",
        "# Run the function and check memory usage\n",
        "my_function()"
      ],
      "metadata": {
        "id": "Fhc8Ul_UNhod"
      },
      "execution_count": null,
      "outputs": []
    },
    {
      "cell_type": "code",
      "source": [],
      "metadata": {
        "id": "mivIiZGUN4-d"
      },
      "execution_count": null,
      "outputs": []
    },
    {
      "cell_type": "markdown",
      "source": [
        "  17. Write a Python program to create and write a list of numbers to a file, one number per line."
      ],
      "metadata": {
        "id": "AxQvuO68N5WU"
      }
    },
    {
      "cell_type": "code",
      "source": [
        "def write_numbers_to_file(filename, numbers):\n",
        "    \"\"\"Writes a list of numbers to a file, one number per line.\n",
        "\n",
        "    Args:\n",
        "        filename (str): The name of the file to write to.\n",
        "        numbers (list): A list of numbers to write.\n",
        "    \"\"\"\n",
        "    with open(filename, 'w') as file:\n",
        "        for number in numbers:\n",
        "            file.write(str(number) + '\\n')\n",
        "\n",
        "if __name__ == '__main__':\n",
        "    numbers = [1, 2, 3, 4, 5]\n",
        "    filename = 'numbers.txt'\n",
        "    write_numbers_to_file(filename, numbers)\n",
        "    print(f\"Numbers have been written to '{filename}'\")"
      ],
      "metadata": {
        "colab": {
          "base_uri": "https://localhost:8080/"
        },
        "id": "yaEMSaGPOLpJ",
        "outputId": "32063914-a58b-4359-8464-9b2b99e04896"
      },
      "execution_count": 23,
      "outputs": [
        {
          "output_type": "stream",
          "name": "stdout",
          "text": [
            "Numbers have been written to 'numbers.txt'\n"
          ]
        }
      ]
    },
    {
      "cell_type": "code",
      "source": [],
      "metadata": {
        "id": "svltlf1AOSge"
      },
      "execution_count": null,
      "outputs": []
    },
    {
      "cell_type": "markdown",
      "source": [
        "  18. How would you implement a basic logging setup that logs to a file with rotation after 1MB?"
      ],
      "metadata": {
        "id": "-OKzu4bNOSvA"
      }
    },
    {
      "cell_type": "code",
      "source": [
        "import logging\n",
        "from logging.handlers import RotatingFileHandler\n",
        "\n",
        "# Configure logging with a rotating file handler\n",
        "logger = logging.getLogger(__name__)\n",
        "logger.setLevel(logging.DEBUG)  # Set the logging level to DEBUG\n",
        "\n",
        "# Create a rotating file handler with a maximum file size of 1MB and keep 5 backup files\n",
        "handler = RotatingFileHandler('app.log', maxBytes=1048576, backupCount=5)\n",
        "handler.setLevel(logging.DEBUG)\n",
        "\n",
        "# Set a formatter for the log messages\n",
        "formatter = logging.Formatter('%(asctime)s - %(name)s - %(levelname)s - %(filename)s:%(lineno)d - %(funcName)s() - %(message)s')\n",
        "handler.setFormatter(formatter)\n",
        "\n",
        "# Add the handler to the logger\n",
        "logger.addHandler(handler)\n",
        "\n",
        "def example_function():\n",
        "    logger.debug(\"This is a debug message with detailed context\")\n",
        "\n",
        "# Call the example function\n",
        "example_function()"
      ],
      "metadata": {
        "colab": {
          "base_uri": "https://localhost:8080/"
        },
        "id": "rxdg3G9OOhLN",
        "outputId": "62197f58-62d8-489b-f510-9189df301f7f"
      },
      "execution_count": 24,
      "outputs": [
        {
          "output_type": "stream",
          "name": "stderr",
          "text": [
            "DEBUG:__main__:This is a debug message with detailed context\n"
          ]
        }
      ]
    },
    {
      "cell_type": "code",
      "source": [],
      "metadata": {
        "id": "woTNkoXsOolK"
      },
      "execution_count": null,
      "outputs": []
    },
    {
      "cell_type": "markdown",
      "source": [
        "  19. Write a program that handles both IndexError and KeyError using a try-except block."
      ],
      "metadata": {
        "id": "c1bGASu9OsPY"
      }
    },
    {
      "cell_type": "code",
      "source": [
        "data = [1, 2, 3]\n",
        "dictionary = {\"a\": 1, \"b\": 2}\n",
        "\n",
        "try:\n",
        "  value = data[5] # This will raise an IndexError\n",
        "  value = dictionary[\"c\"] # This will raise a KeyError\n",
        "except (IndexError, KeyError) as e:\n",
        "  print(f\"An error occurred: {e}\")"
      ],
      "metadata": {
        "colab": {
          "base_uri": "https://localhost:8080/"
        },
        "id": "4SrmxpR_Owwh",
        "outputId": "ebd8d589-74a4-4ed3-a92b-d6c73da8b452"
      },
      "execution_count": 26,
      "outputs": [
        {
          "output_type": "stream",
          "name": "stdout",
          "text": [
            "An error occurred: list index out of range\n"
          ]
        }
      ]
    },
    {
      "cell_type": "code",
      "source": [],
      "metadata": {
        "id": "LORqieY2O05D"
      },
      "execution_count": null,
      "outputs": []
    },
    {
      "cell_type": "markdown",
      "source": [
        "  20. How would you open a file and read its contents using a context manager in Python."
      ],
      "metadata": {
        "id": "jUVmv5QXO2KW"
      }
    },
    {
      "cell_type": "code",
      "source": [
        "def read_file_content(filename):\n",
        "    try:\n",
        "        with open(filename, 'r') as file:\n",
        "            content = file.read()\n",
        "            return content\n",
        "    except FileNotFoundError:\n",
        "        return f\"Error: File '{filename}' not found.\"\n",
        "    except Exception as e:\n",
        "        return f\"An error occurred: {e}\""
      ],
      "metadata": {
        "id": "HqdNU4BTPD0-"
      },
      "execution_count": 27,
      "outputs": []
    },
    {
      "cell_type": "code",
      "source": [],
      "metadata": {
        "id": "nLSQNhdiPEqd"
      },
      "execution_count": null,
      "outputs": []
    },
    {
      "cell_type": "markdown",
      "source": [
        "  21. Write a Python program that reads a file and prints the number of occurrences of a specific word."
      ],
      "metadata": {
        "id": "WM_iA3bQPFt4"
      }
    },
    {
      "cell_type": "code",
      "source": [
        "def count_word_occurrences(filename, word):\n",
        "    \"\"\"\n",
        "    Reads a file and counts the occurrences of a specific word.\n",
        "\n",
        "    Args:\n",
        "        filename (str): The path to the file.\n",
        "        word (str): The word to count.\n",
        "\n",
        "    Returns:\n",
        "        int: The number of occurrences of the word in the file.\n",
        "    \"\"\"\n",
        "    count = 0\n",
        "    try:\n",
        "      with open(filename, 'r') as file:\n",
        "          for line in file:\n",
        "              words = line.lower().split()\n",
        "              for w in words:\n",
        "                  if w == word.lower():\n",
        "                      count += 1\n",
        "    except FileNotFoundError:\n",
        "        print(f\"Error: File '{filename}' not found.\")\n",
        "        return None\n",
        "    return count\n",
        "\n",
        "if __name__ == \"__main__\":\n",
        "    filename = input(\"Enter the file name: \")\n",
        "    word = input(\"Enter the word to search for: \")\n",
        "    occurrences = count_word_occurrences(filename, word)\n",
        "    if occurrences is not None:\n",
        "        print(f\"The word '{word}' appears {occurrences} times in the file.\")"
      ],
      "metadata": {
        "colab": {
          "base_uri": "https://localhost:8080/"
        },
        "id": "gnxzgdYWPUVY",
        "outputId": "59f29f1d-5b1a-4b30-d4ab-4c2690a64c8a"
      },
      "execution_count": 28,
      "outputs": [
        {
          "output_type": "stream",
          "name": "stdout",
          "text": [
            "Enter the file name: 25\n",
            "Enter the word to search for: book\n",
            "Error: File '25' not found.\n"
          ]
        }
      ]
    },
    {
      "cell_type": "code",
      "source": [],
      "metadata": {
        "id": "LqFQy4A1PVCX"
      },
      "execution_count": null,
      "outputs": []
    },
    {
      "cell_type": "markdown",
      "source": [
        "  22. How can you check if a file is empty before attempting to read its contents."
      ],
      "metadata": {
        "id": "ggboLNl9P0L1"
      }
    },
    {
      "cell_type": "code",
      "source": [
        "with open('example.txt', 'r') as file:\n",
        "    content = file.read()\n",
        "    if not content:\n",
        "        print('The file is empty.')\n",
        "    else:\n",
        "        print('The file is not empty.')"
      ],
      "metadata": {
        "colab": {
          "base_uri": "https://localhost:8080/"
        },
        "id": "qxifJTJwQRcP",
        "outputId": "5712a285-b493-4dfb-e73e-c9150b6d50d5"
      },
      "execution_count": 31,
      "outputs": [
        {
          "output_type": "stream",
          "name": "stdout",
          "text": [
            "The file is not empty.\n"
          ]
        }
      ]
    },
    {
      "cell_type": "code",
      "source": [],
      "metadata": {
        "id": "JxiYT8bBQu6y"
      },
      "execution_count": null,
      "outputs": []
    },
    {
      "cell_type": "markdown",
      "source": [
        "  23. Write a Python program that writes to a log file when an error occurs during file handling."
      ],
      "metadata": {
        "id": "Q_E5H_5SQxTs"
      }
    },
    {
      "cell_type": "code",
      "source": [
        "import logging\n",
        "\n",
        "# Configure logging to write to a file\n",
        "logging.basicConfig(filename='file_handling_errors.log', level=logging.ERROR,\n",
        "                    format='%(asctime)s - %(levelname)s - %(message)s')\n",
        "\n",
        "def process_file(filename):\n",
        "    \"\"\"\n",
        "    Opens a file, reads its contents, and logs any errors that occur.\n",
        "    \"\"\"\n",
        "    try:\n",
        "        with open(filename, 'r') as file:\n",
        "            contents = file.read()\n",
        "            print(\"File contents:\\n\", contents)\n",
        "    except FileNotFoundError:\n",
        "        logging.error(f\"File not found: {filename}\")\n",
        "    except PermissionError:\n",
        "        logging.error(f\"Permission denied to open: {filename}\")\n",
        "    except Exception as e:\n",
        "        logging.error(f\"An unexpected error occurred: {e}\")\n",
        "\n",
        "if __name__ == '__main__':\n",
        "    process_file('example.txt') # Example with a file that might exist\n",
        "    process_file('nonexistent_file.txt')  # Example with a file that does not exist\n",
        "    process_file('/root/secret_file.txt') # Example with a file that might have permission issues"
      ],
      "metadata": {
        "colab": {
          "base_uri": "https://localhost:8080/"
        },
        "id": "HqilSZutRNuG",
        "outputId": "79a523a0-6c0c-4274-d590-d6ac43ae9c54"
      },
      "execution_count": 32,
      "outputs": [
        {
          "output_type": "stream",
          "name": "stderr",
          "text": [
            "ERROR:root:File not found: nonexistent_file.txt\n",
            "ERROR:root:File not found: /root/secret_file.txt\n"
          ]
        },
        {
          "output_type": "stream",
          "name": "stdout",
          "text": [
            "File contents:\n",
            " Hello, this is a string written to the file.\n"
          ]
        }
      ]
    },
    {
      "cell_type": "code",
      "source": [],
      "metadata": {
        "id": "h_g-xjGhRRHd"
      },
      "execution_count": null,
      "outputs": []
    }
  ]
}